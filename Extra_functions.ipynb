{
 "cells": [
  {
   "cell_type": "code",
   "execution_count": 1,
   "id": "48b28170-0673-4f33-8b57-8f30de99618d",
   "metadata": {
    "tags": []
   },
   "outputs": [],
   "source": [
    "from docx import Document\n",
    "from docx.oxml import OxmlElement\n",
    "from docx.oxml.ns import qn\n",
    "from docx.shared import Emu\n",
    "import zipfile\n",
    "import os"
   ]
  },
  {
   "cell_type": "markdown",
   "id": "61d6df13-3723-4584-a4ea-84d73b9f4c13",
   "metadata": {},
   "source": [
    "#### Clearing functions : "
   ]
  },
  {
   "cell_type": "code",
   "execution_count": 127,
   "id": "2d1c228a-eb54-437f-b5a4-b505e6ba1d92",
   "metadata": {
    "tags": []
   },
   "outputs": [],
   "source": [
    "def clear_header(doc):\n",
    "    for section in doc.sections:\n",
    "        header = section.header\n",
    "        for paragraph in header.paragraphs:\n",
    "            paragraph.clear()\n",
    "\n",
    "            \n",
    "def clear_footer(doc):\n",
    "    for section in doc.sections:\n",
    "        footer = section.footer\n",
    "        for element in list(footer._element):\n",
    "            footer._element.remove(element)"
   ]
  },
  {
   "cell_type": "markdown",
   "id": "1cdaa6d0-1aab-4782-88ac-02500f8947ea",
   "metadata": {
    "tags": []
   },
   "source": [
    "#### Unzipping and Reading : "
   ]
  },
  {
   "cell_type": "code",
   "execution_count": 4,
   "id": "2633f35a-e32f-4b2f-b1e9-14936c7766df",
   "metadata": {
    "tags": []
   },
   "outputs": [],
   "source": [
    "def read_xml(docx_path,file):\n",
    "    with zipfile.ZipFile(docx_path, 'r') as zip_ref:\n",
    "        all_files = zip_ref.namelist()\n",
    "        header_file = next((s for s in all_files if file in s), None)\n",
    "        if header_file:\n",
    "            with zip_ref.open(header_file) as file:\n",
    "                return file.read().decode('utf-8')\n",
    "        else:\n",
    "            print(f\"Pas de {file} trouvé\")\n",
    "            return None"
   ]
  },
  {
   "cell_type": "code",
   "execution_count": 17,
   "id": "7dff106d-713d-4780-a376-d211798c2deb",
   "metadata": {
    "tags": []
   },
   "outputs": [],
   "source": [
    "import zipfile\n",
    "import re\n",
    "\n",
    "def read_xmls(docx_path, file_type):\n",
    "    if file_type not in [\"header\", \"footer\"]:\n",
    "        print(\"Invalid file type, 'header' or 'footer'.\")\n",
    "        return None\n",
    "\n",
    "    file_pattern = re.compile(rf'word/{file_type}\\d*\\.xml')\n",
    "    contents = {}\n",
    "\n",
    "    with zipfile.ZipFile(docx_path, 'r') as zip_ref:\n",
    "        all_files = zip_ref.namelist()\n",
    "        relevant_files = filter(file_pattern.match, all_files)\n",
    "\n",
    "        for file_name in relevant_files:\n",
    "            with zip_ref.open(file_name) as file:\n",
    "                content = file.read().decode('utf-8')\n",
    "                contents[file_name] = content\n",
    "\n",
    "    return contents"
   ]
  },
  {
   "cell_type": "code",
   "execution_count": 21,
   "id": "34b9f0d4-d294-4211-b1b9-114c185eab3b",
   "metadata": {
    "tags": []
   },
   "outputs": [],
   "source": [
    "docx_path = \"test.docx\"\n",
    "headers = read_xmls(docx_path, \"header\")\n",
    "footers = read_xmls(docx_path, \"footer\")"
   ]
  },
  {
   "cell_type": "code",
   "execution_count": 28,
   "id": "fc3e4182-dd80-4a00-be58-fa915699f72a",
   "metadata": {
    "tags": []
   },
   "outputs": [
    {
     "data": {
      "text/plain": [
       "{'word/header1.xml': '<?xml version=\"1.0\" encoding=\"UTF-8\" standalone=\"yes\"?>\\r\\n<w:hdr xmlns:wpc=\"http://schemas.microsoft.com/office/word/2010/wordprocessingCanvas\" xmlns:cx=\"http://schemas.microsoft.com/office/drawing/2014/chartex\" xmlns:cx1=\"http://schemas.microsoft.com/office/drawing/2015/9/8/chartex\" xmlns:cx2=\"http://schemas.microsoft.com/office/drawing/2015/10/21/chartex\" xmlns:cx3=\"http://schemas.microsoft.com/office/drawing/2016/5/9/chartex\" xmlns:cx4=\"http://schemas.microsoft.com/office/drawing/2016/5/10/chartex\" xmlns:cx5=\"http://schemas.microsoft.com/office/drawing/2016/5/11/chartex\" xmlns:cx6=\"http://schemas.microsoft.com/office/drawing/2016/5/12/chartex\" xmlns:cx7=\"http://schemas.microsoft.com/office/drawing/2016/5/13/chartex\" xmlns:cx8=\"http://schemas.microsoft.com/office/drawing/2016/5/14/chartex\" xmlns:mc=\"http://schemas.openxmlformats.org/markup-compatibility/2006\" xmlns:aink=\"http://schemas.microsoft.com/office/drawing/2016/ink\" xmlns:am3d=\"http://schemas.microsoft.com/office/drawing/2017/model3d\" xmlns:o=\"urn:schemas-microsoft-com:office:office\" xmlns:oel=\"http://schemas.microsoft.com/office/2019/extlst\" xmlns:r=\"http://schemas.openxmlformats.org/officeDocument/2006/relationships\" xmlns:m=\"http://schemas.openxmlformats.org/officeDocument/2006/math\" xmlns:v=\"urn:schemas-microsoft-com:vml\" xmlns:wp14=\"http://schemas.microsoft.com/office/word/2010/wordprocessingDrawing\" xmlns:wp=\"http://schemas.openxmlformats.org/drawingml/2006/wordprocessingDrawing\" xmlns:w10=\"urn:schemas-microsoft-com:office:word\" xmlns:w=\"http://schemas.openxmlformats.org/wordprocessingml/2006/main\" xmlns:w14=\"http://schemas.microsoft.com/office/word/2010/wordml\" xmlns:w15=\"http://schemas.microsoft.com/office/word/2012/wordml\" xmlns:w16cex=\"http://schemas.microsoft.com/office/word/2018/wordml/cex\" xmlns:w16cid=\"http://schemas.microsoft.com/office/word/2016/wordml/cid\" xmlns:w16=\"http://schemas.microsoft.com/office/word/2018/wordml\" xmlns:w16sdtdh=\"http://schemas.microsoft.com/office/word/2020/wordml/sdtdatahash\" xmlns:w16se=\"http://schemas.microsoft.com/office/word/2015/wordml/symex\" xmlns:wpg=\"http://schemas.microsoft.com/office/word/2010/wordprocessingGroup\" xmlns:wpi=\"http://schemas.microsoft.com/office/word/2010/wordprocessingInk\" xmlns:wne=\"http://schemas.microsoft.com/office/word/2006/wordml\" xmlns:wps=\"http://schemas.microsoft.com/office/word/2010/wordprocessingShape\" mc:Ignorable=\"w14 w15 w16se w16cid w16 w16cex w16sdtdh wp14\"><w:p w14:paraId=\"1889D2BA\" w14:textId=\"77777777\" w:rsidR=\"00493283\" w:rsidRDefault=\"00000000\"><w:pPr><w:pStyle w:val=\"En-tte\"/></w:pPr><w:r><w:rPr><w:noProof/></w:rPr><w:pict w14:anchorId=\"2EC9E9AA\"><v:shapetype id=\"_x0000_t75\" coordsize=\"21600,21600\" o:spt=\"75\" o:preferrelative=\"t\" path=\"m@4@5l@4@11@9@11@9@5xe\" filled=\"f\" stroked=\"f\"><v:stroke joinstyle=\"miter\"/><v:formulas><v:f eqn=\"if lineDrawn pixelLineWidth 0\"/><v:f eqn=\"sum @0 1 0\"/><v:f eqn=\"sum 0 0 @1\"/><v:f eqn=\"prod @2 1 2\"/><v:f eqn=\"prod @3 21600 pixelWidth\"/><v:f eqn=\"prod @3 21600 pixelHeight\"/><v:f eqn=\"sum @0 0 1\"/><v:f eqn=\"prod @6 1 2\"/><v:f eqn=\"prod @7 21600 pixelWidth\"/><v:f eqn=\"sum @8 21600 0\"/><v:f eqn=\"prod @7 21600 pixelHeight\"/><v:f eqn=\"sum @10 21600 0\"/></v:formulas><v:path o:extrusionok=\"f\" gradientshapeok=\"t\" o:connecttype=\"rect\"/><o:lock v:ext=\"edit\" aspectratio=\"t\"/></v:shapetype><v:shape id=\"WordPictureWatermark1835486204\" o:spid=\"_x0000_s1026\" type=\"#_x0000_t75\" alt=\"Griffe\" style=\"position:absolute;margin-left:0;margin-top:0;width:720.4pt;height:930.4pt;z-index:-251656192;mso-wrap-edited:f;mso-width-percent:0;mso-height-percent:0;mso-position-horizontal:center;mso-position-horizontal-relative:margin;mso-position-vertical:center;mso-position-vertical-relative:margin;mso-width-percent:0;mso-height-percent:0\" o:allowincell=\"f\"><v:imagedata r:id=\"rId1\" o:title=\"Griffe\" gain=\"19661f\" blacklevel=\"22938f\"/><w10:wrap anchorx=\"margin\" anchory=\"margin\"/></v:shape></w:pict></w:r></w:p></w:hdr>',\n",
       " 'word/header2.xml': '<?xml version=\"1.0\" encoding=\"UTF-8\" standalone=\"yes\"?>\\r\\n<w:hdr xmlns:wpc=\"http://schemas.microsoft.com/office/word/2010/wordprocessingCanvas\" xmlns:cx=\"http://schemas.microsoft.com/office/drawing/2014/chartex\" xmlns:cx1=\"http://schemas.microsoft.com/office/drawing/2015/9/8/chartex\" xmlns:cx2=\"http://schemas.microsoft.com/office/drawing/2015/10/21/chartex\" xmlns:cx3=\"http://schemas.microsoft.com/office/drawing/2016/5/9/chartex\" xmlns:cx4=\"http://schemas.microsoft.com/office/drawing/2016/5/10/chartex\" xmlns:cx5=\"http://schemas.microsoft.com/office/drawing/2016/5/11/chartex\" xmlns:cx6=\"http://schemas.microsoft.com/office/drawing/2016/5/12/chartex\" xmlns:cx7=\"http://schemas.microsoft.com/office/drawing/2016/5/13/chartex\" xmlns:cx8=\"http://schemas.microsoft.com/office/drawing/2016/5/14/chartex\" xmlns:mc=\"http://schemas.openxmlformats.org/markup-compatibility/2006\" xmlns:aink=\"http://schemas.microsoft.com/office/drawing/2016/ink\" xmlns:am3d=\"http://schemas.microsoft.com/office/drawing/2017/model3d\" xmlns:o=\"urn:schemas-microsoft-com:office:office\" xmlns:oel=\"http://schemas.microsoft.com/office/2019/extlst\" xmlns:r=\"http://schemas.openxmlformats.org/officeDocument/2006/relationships\" xmlns:m=\"http://schemas.openxmlformats.org/officeDocument/2006/math\" xmlns:v=\"urn:schemas-microsoft-com:vml\" xmlns:wp14=\"http://schemas.microsoft.com/office/word/2010/wordprocessingDrawing\" xmlns:wp=\"http://schemas.openxmlformats.org/drawingml/2006/wordprocessingDrawing\" xmlns:w10=\"urn:schemas-microsoft-com:office:word\" xmlns:w=\"http://schemas.openxmlformats.org/wordprocessingml/2006/main\" xmlns:w14=\"http://schemas.microsoft.com/office/word/2010/wordml\" xmlns:w15=\"http://schemas.microsoft.com/office/word/2012/wordml\" xmlns:w16cex=\"http://schemas.microsoft.com/office/word/2018/wordml/cex\" xmlns:w16cid=\"http://schemas.microsoft.com/office/word/2016/wordml/cid\" xmlns:w16=\"http://schemas.microsoft.com/office/word/2018/wordml\" xmlns:w16sdtdh=\"http://schemas.microsoft.com/office/word/2020/wordml/sdtdatahash\" xmlns:w16se=\"http://schemas.microsoft.com/office/word/2015/wordml/symex\" xmlns:wpg=\"http://schemas.microsoft.com/office/word/2010/wordprocessingGroup\" xmlns:wpi=\"http://schemas.microsoft.com/office/word/2010/wordprocessingInk\" xmlns:wne=\"http://schemas.microsoft.com/office/word/2006/wordml\" xmlns:wps=\"http://schemas.microsoft.com/office/word/2010/wordprocessingShape\" mc:Ignorable=\"w14 w15 w16se w16cid w16 w16cex w16sdtdh wp14\"><w:p w14:paraId=\"39626F87\" w14:textId=\"6AB0D6BE\" w:rsidR=\"00493283\" w:rsidRDefault=\"009A739B\" w:rsidP=\"000C03E6\"><w:pPr><w:pStyle w:val=\"En-tte\"/><w:jc w:val=\"center\"/></w:pPr><w:r><w:rPr><w:rFonts w:asciiTheme=\"minorHAnsi\" w:eastAsiaTheme=\"minorHAnsi\" w:hAnsiTheme=\"minorHAnsi\" w:cstheme=\"minorBidi\"/><w:noProof/><w:sz w:val=\"22\"/><w:szCs w:val=\"22\"/></w:rPr><w:drawing><wp:anchor distT=\"0\" distB=\"0\" distL=\"114300\" distR=\"114300\" simplePos=\"0\" relativeHeight=\"251666432\" behindDoc=\"1\" locked=\"0\" layoutInCell=\"1\" allowOverlap=\"1\" wp14:anchorId=\"03ED57A9\" wp14:editId=\"1D2B173C\"><wp:simplePos x=\"0\" y=\"0\"/><wp:positionH relativeFrom=\"page\"><wp:align>left</wp:align></wp:positionH><wp:positionV relativeFrom=\"paragraph\"><wp:posOffset>106045</wp:posOffset></wp:positionV><wp:extent cx=\"1804670\" cy=\"826770\"/><wp:effectExtent l=\"0\" t=\"0\" r=\"0\" b=\"0\"/><wp:wrapNone/><wp:docPr id=\"4\" name=\"Image 4\" descr=\"Une image contenant Police, Graphique, graphisme, logo&#xA;&#xA;Description générée automatiquement\"/><wp:cNvGraphicFramePr><a:graphicFrameLocks xmlns:a=\"http://schemas.openxmlformats.org/drawingml/2006/main\" noChangeAspect=\"1\"/></wp:cNvGraphicFramePr><a:graphic xmlns:a=\"http://schemas.openxmlformats.org/drawingml/2006/main\"><a:graphicData uri=\"http://schemas.openxmlformats.org/drawingml/2006/picture\"><pic:pic xmlns:pic=\"http://schemas.openxmlformats.org/drawingml/2006/picture\"><pic:nvPicPr><pic:cNvPr id=\"4\" name=\"Image 4\" descr=\"Une image contenant Police, Graphique, graphisme, logo&#xA;&#xA;Description générée automatiquement\"/><pic:cNvPicPr/></pic:nvPicPr><pic:blipFill><a:blip r:embed=\"rId1\"><a:extLst><a:ext uri=\"{28A0092B-C50C-407E-A947-70E740481C1C}\"><a14:useLocalDpi xmlns:a14=\"http://schemas.microsoft.com/office/drawing/2010/main\" val=\"0\"/></a:ext></a:extLst></a:blip><a:stretch><a:fillRect/></a:stretch></pic:blipFill><pic:spPr><a:xfrm><a:off x=\"0\" y=\"0\"/><a:ext cx=\"1804670\" cy=\"826770\"/></a:xfrm><a:prstGeom prst=\"rect\"><a:avLst/></a:prstGeom></pic:spPr></pic:pic></a:graphicData></a:graphic></wp:anchor></w:drawing></w:r><w:r><w:rPr><w:noProof/></w:rPr><w:drawing><wp:anchor distT=\"0\" distB=\"0\" distL=\"114300\" distR=\"114300\" simplePos=\"0\" relativeHeight=\"251665408\" behindDoc=\"0\" locked=\"0\" layoutInCell=\"1\" hidden=\"0\" allowOverlap=\"1\" wp14:anchorId=\"1E93EB76\" wp14:editId=\"00B265D2\"><wp:simplePos x=\"0\" y=\"0\"/><wp:positionH relativeFrom=\"page\"><wp:posOffset>6290310</wp:posOffset></wp:positionH><wp:positionV relativeFrom=\"margin\"><wp:posOffset>-965835</wp:posOffset></wp:positionV><wp:extent cx=\"1104900\" cy=\"923925\"/><wp:effectExtent l=\"0\" t=\"0\" r=\"0\" b=\"9525\"/><wp:wrapSquare wrapText=\"bothSides\"/><wp:docPr id=\"1087473222\" name=\"Image 1087473222\" descr=\"Une image contenant logo&#xA;&#xA;Description générée automatiquement\"/><wp:cNvGraphicFramePr/><a:graphic xmlns:a=\"http://schemas.openxmlformats.org/drawingml/2006/main\"><a:graphicData uri=\"http://schemas.openxmlformats.org/drawingml/2006/picture\"><pic:pic xmlns:pic=\"http://schemas.openxmlformats.org/drawingml/2006/picture\"><pic:nvPicPr><pic:cNvPr id=\"1087473222\" name=\"Image 1087473222\" descr=\"Une image contenant logo&#xA;&#xA;Description générée automatiquement\"/><pic:cNvPicPr preferRelativeResize=\"0\"/></pic:nvPicPr><pic:blipFill><a:blip r:embed=\"rId2\"/><a:srcRect/><a:stretch><a:fillRect/></a:stretch></pic:blipFill><pic:spPr><a:xfrm><a:off x=\"0\" y=\"0\"/><a:ext cx=\"1104900\" cy=\"923925\"/></a:xfrm><a:prstGeom prst=\"rect\"><a:avLst/></a:prstGeom><a:ln/></pic:spPr></pic:pic></a:graphicData></a:graphic><wp14:sizeRelH relativeFrom=\"margin\"><wp14:pctWidth>0</wp14:pctWidth></wp14:sizeRelH><wp14:sizeRelV relativeFrom=\"margin\"><wp14:pctHeight>0</wp14:pctHeight></wp14:sizeRelV></wp:anchor></w:drawing></w:r></w:p><w:p w14:paraId=\"5F736F9B\" w14:textId=\"692D6F38\" w:rsidR=\"009A739B\" w:rsidRDefault=\"009A739B\" w:rsidP=\"000C03E6\"><w:pPr><w:pStyle w:val=\"En-tte\"/><w:jc w:val=\"center\"/></w:pPr><w:r><w:rPr><w:noProof/></w:rPr><w:drawing><wp:anchor distT=\"0\" distB=\"0\" distL=\"114300\" distR=\"114300\" simplePos=\"0\" relativeHeight=\"251664384\" behindDoc=\"1\" locked=\"0\" layoutInCell=\"1\" hidden=\"0\" allowOverlap=\"1\" wp14:anchorId=\"250D8DF5\" wp14:editId=\"59874A7F\"><wp:simplePos x=\"0\" y=\"0\"/><wp:positionH relativeFrom=\"margin\"><wp:posOffset>5024755</wp:posOffset></wp:positionH><wp:positionV relativeFrom=\"margin\"><wp:posOffset>-869315</wp:posOffset></wp:positionV><wp:extent cx=\"660400\" cy=\"660400\"/><wp:effectExtent l=\"0\" t=\"0\" r=\"6350\" b=\"6350\"/><wp:wrapNone/><wp:docPr id=\"1302147510\" name=\"Image 1302147510\" descr=\"Une image contenant diagramme&#xA;&#xA;Description générée automatiquement\"/><wp:cNvGraphicFramePr/><a:graphic xmlns:a=\"http://schemas.openxmlformats.org/drawingml/2006/main\"><a:graphicData uri=\"http://schemas.openxmlformats.org/drawingml/2006/picture\"><pic:pic xmlns:pic=\"http://schemas.openxmlformats.org/drawingml/2006/picture\"><pic:nvPicPr><pic:cNvPr id=\"1302147510\" name=\"Image 1302147510\" descr=\"Une image contenant diagramme&#xA;&#xA;Description générée automatiquement\"/><pic:cNvPicPr preferRelativeResize=\"0\"/></pic:nvPicPr><pic:blipFill><a:blip r:embed=\"rId3\"/><a:srcRect/><a:stretch><a:fillRect/></a:stretch></pic:blipFill><pic:spPr><a:xfrm><a:off x=\"0\" y=\"0\"/><a:ext cx=\"660400\" cy=\"660400\"/></a:xfrm><a:prstGeom prst=\"rect\"><a:avLst/></a:prstGeom><a:ln/></pic:spPr></pic:pic></a:graphicData></a:graphic></wp:anchor></w:drawing></w:r></w:p><w:p w14:paraId=\"22F0751D\" w14:textId=\"77777777\" w:rsidR=\"009A739B\" w:rsidRDefault=\"009A739B\" w:rsidP=\"000C03E6\"><w:pPr><w:pStyle w:val=\"En-tte\"/><w:jc w:val=\"center\"/></w:pPr></w:p><w:p w14:paraId=\"3CD0E89C\" w14:textId=\"77777777\" w:rsidR=\"009A739B\" w:rsidRDefault=\"009A739B\" w:rsidP=\"000C03E6\"><w:pPr><w:pStyle w:val=\"En-tte\"/><w:jc w:val=\"center\"/></w:pPr></w:p><w:p w14:paraId=\"6A47F7DD\" w14:textId=\"77777777\" w:rsidR=\"009A739B\" w:rsidRDefault=\"009A739B\" w:rsidP=\"000C03E6\"><w:pPr><w:pStyle w:val=\"En-tte\"/><w:jc w:val=\"center\"/></w:pPr></w:p><w:p w14:paraId=\"2F056F89\" w14:textId=\"77777777\" w:rsidR=\"009A739B\" w:rsidRDefault=\"009A739B\" w:rsidP=\"000C03E6\"><w:pPr><w:pStyle w:val=\"En-tte\"/><w:jc w:val=\"center\"/></w:pPr></w:p></w:hdr>',\n",
       " 'word/header3.xml': '<?xml version=\"1.0\" encoding=\"UTF-8\" standalone=\"yes\"?>\\r\\n<w:hdr xmlns:wpc=\"http://schemas.microsoft.com/office/word/2010/wordprocessingCanvas\" xmlns:cx=\"http://schemas.microsoft.com/office/drawing/2014/chartex\" xmlns:cx1=\"http://schemas.microsoft.com/office/drawing/2015/9/8/chartex\" xmlns:cx2=\"http://schemas.microsoft.com/office/drawing/2015/10/21/chartex\" xmlns:cx3=\"http://schemas.microsoft.com/office/drawing/2016/5/9/chartex\" xmlns:cx4=\"http://schemas.microsoft.com/office/drawing/2016/5/10/chartex\" xmlns:cx5=\"http://schemas.microsoft.com/office/drawing/2016/5/11/chartex\" xmlns:cx6=\"http://schemas.microsoft.com/office/drawing/2016/5/12/chartex\" xmlns:cx7=\"http://schemas.microsoft.com/office/drawing/2016/5/13/chartex\" xmlns:cx8=\"http://schemas.microsoft.com/office/drawing/2016/5/14/chartex\" xmlns:mc=\"http://schemas.openxmlformats.org/markup-compatibility/2006\" xmlns:aink=\"http://schemas.microsoft.com/office/drawing/2016/ink\" xmlns:am3d=\"http://schemas.microsoft.com/office/drawing/2017/model3d\" xmlns:o=\"urn:schemas-microsoft-com:office:office\" xmlns:oel=\"http://schemas.microsoft.com/office/2019/extlst\" xmlns:r=\"http://schemas.openxmlformats.org/officeDocument/2006/relationships\" xmlns:m=\"http://schemas.openxmlformats.org/officeDocument/2006/math\" xmlns:v=\"urn:schemas-microsoft-com:vml\" xmlns:wp14=\"http://schemas.microsoft.com/office/word/2010/wordprocessingDrawing\" xmlns:wp=\"http://schemas.openxmlformats.org/drawingml/2006/wordprocessingDrawing\" xmlns:w10=\"urn:schemas-microsoft-com:office:word\" xmlns:w=\"http://schemas.openxmlformats.org/wordprocessingml/2006/main\" xmlns:w14=\"http://schemas.microsoft.com/office/word/2010/wordml\" xmlns:w15=\"http://schemas.microsoft.com/office/word/2012/wordml\" xmlns:w16cex=\"http://schemas.microsoft.com/office/word/2018/wordml/cex\" xmlns:w16cid=\"http://schemas.microsoft.com/office/word/2016/wordml/cid\" xmlns:w16=\"http://schemas.microsoft.com/office/word/2018/wordml\" xmlns:w16sdtdh=\"http://schemas.microsoft.com/office/word/2020/wordml/sdtdatahash\" xmlns:w16se=\"http://schemas.microsoft.com/office/word/2015/wordml/symex\" xmlns:wpg=\"http://schemas.microsoft.com/office/word/2010/wordprocessingGroup\" xmlns:wpi=\"http://schemas.microsoft.com/office/word/2010/wordprocessingInk\" xmlns:wne=\"http://schemas.microsoft.com/office/word/2006/wordml\" xmlns:wps=\"http://schemas.microsoft.com/office/word/2010/wordprocessingShape\" mc:Ignorable=\"w14 w15 w16se w16cid w16 w16cex w16sdtdh wp14\"><w:p w14:paraId=\"373B2037\" w14:textId=\"77777777\" w:rsidR=\"00493283\" w:rsidRDefault=\"00000000\"><w:pPr><w:pStyle w:val=\"En-tte\"/></w:pPr><w:r><w:rPr><w:noProof/></w:rPr><w:pict w14:anchorId=\"2F01C0AE\"><v:shapetype id=\"_x0000_t75\" coordsize=\"21600,21600\" o:spt=\"75\" o:preferrelative=\"t\" path=\"m@4@5l@4@11@9@11@9@5xe\" filled=\"f\" stroked=\"f\"><v:stroke joinstyle=\"miter\"/><v:formulas><v:f eqn=\"if lineDrawn pixelLineWidth 0\"/><v:f eqn=\"sum @0 1 0\"/><v:f eqn=\"sum 0 0 @1\"/><v:f eqn=\"prod @2 1 2\"/><v:f eqn=\"prod @3 21600 pixelWidth\"/><v:f eqn=\"prod @3 21600 pixelHeight\"/><v:f eqn=\"sum @0 0 1\"/><v:f eqn=\"prod @6 1 2\"/><v:f eqn=\"prod @7 21600 pixelWidth\"/><v:f eqn=\"sum @8 21600 0\"/><v:f eqn=\"prod @7 21600 pixelHeight\"/><v:f eqn=\"sum @10 21600 0\"/></v:formulas><v:path o:extrusionok=\"f\" gradientshapeok=\"t\" o:connecttype=\"rect\"/><o:lock v:ext=\"edit\" aspectratio=\"t\"/></v:shapetype><v:shape id=\"WordPictureWatermark1835486203\" o:spid=\"_x0000_s1024\" type=\"#_x0000_t75\" alt=\"Griffe\" style=\"position:absolute;margin-left:0;margin-top:0;width:720.4pt;height:930.4pt;z-index:-251657216;mso-wrap-edited:f;mso-width-percent:0;mso-height-percent:0;mso-position-horizontal:center;mso-position-horizontal-relative:margin;mso-position-vertical:center;mso-position-vertical-relative:margin;mso-width-percent:0;mso-height-percent:0\" o:allowincell=\"f\"><v:imagedata r:id=\"rId1\" o:title=\"Griffe\" gain=\"19661f\" blacklevel=\"22938f\"/><w10:wrap anchorx=\"margin\" anchory=\"margin\"/></v:shape></w:pict></w:r></w:p></w:hdr>'}"
      ]
     },
     "execution_count": 28,
     "metadata": {},
     "output_type": "execute_result"
    }
   ],
   "source": [
    "headers"
   ]
  },
  {
   "cell_type": "markdown",
   "id": "ba7349d9-167d-4245-bb42-55d75f075e8f",
   "metadata": {},
   "source": [
    "#### Reading information related to picture/text : "
   ]
  },
  {
   "cell_type": "markdown",
   "id": "b6de6201-1170-444d-8c28-63eb0315843a",
   "metadata": {
    "tags": []
   },
   "source": [
    " ##### Picture info : "
   ]
  },
  {
   "cell_type": "code",
   "execution_count": 50,
   "id": "af24548b-2d95-426e-8b48-225dcbbc7718",
   "metadata": {
    "tags": []
   },
   "outputs": [],
   "source": [
    "import xml.etree.ElementTree as ET\n",
    "\n",
    "def extract_img(xml_text):\n",
    "    namespaces = {\n",
    "        'w': 'http://schemas.openxmlformats.org/wordprocessingml/2006/main',\n",
    "        'wp': 'http://schemas.openxmlformats.org/drawingml/2006/wordprocessingDrawing',\n",
    "        'a': 'http://schemas.openxmlformats.org/drawingml/2006/main',\n",
    "        'pic': 'http://schemas.openxmlformats.org/drawingml/2006/picture',\n",
    "        'r': 'http://schemas.openxmlformats.org/officeDocument/2006/relationships'\n",
    "    }\n",
    "\n",
    "    tree = ET.ElementTree(ET.fromstring(xml_text))\n",
    "    root = tree.getroot()\n",
    "    \n",
    "    images_info = []\n",
    "    drawings = root.findall('.//w:drawing', namespaces)\n",
    "    \n",
    "    for drawing in drawings:\n",
    "        anchors = drawing.findall('.//wp:anchor', namespaces)\n",
    "        inlines = drawing.findall('.//wp:inline', namespaces)\n",
    "        \n",
    "        for anchor in anchors + inlines:\n",
    "            positionH = anchor.find('.//wp:positionH', namespaces)\n",
    "            posH_offset = positionH.find('.//wp:posOffset', namespa=ces).text if positionH is not None else None\n",
    "            positionV = anchor.find('.//wp:positionV', namespaces)\n",
    "            posV_offset = positionV.find('.//wp:posOffset', namespaces).text if positionV is not None else None\n",
    "\n",
    "            image_info = {\n",
    "                'name': anchor.find('.//pic:cNvPr', namespaces).get('name'),\n",
    "                'cx': anchor.find('.//wp:extent', namespaces).get('cx'),\n",
    "                'cy': anchor.find('.//wp:extent', namespaces).get('cy'),\n",
    "                'position_horizontal': posH_offset,\n",
    "                'position_vertical': posV_offset\n",
    "            }\n",
    "            images_info.append(image_info)\n",
    "    \n",
    "    return images_info"
   ]
  },
  {
   "cell_type": "code",
   "execution_count": 53,
   "id": "2d2f1bd3-b314-4ada-a5dd-083f31bc5f78",
   "metadata": {
    "tags": []
   },
   "outputs": [
    {
     "data": {
      "text/plain": [
       "[{'name': 'Image 1',\n",
       "  'cx': '1371600',\n",
       "  'cy': '660400',\n",
       "  'position_horizontal': None,\n",
       "  'position_vertical': None}]"
      ]
     },
     "execution_count": 53,
     "metadata": {},
     "output_type": "execute_result"
    }
   ],
   "source": [
    "xml_t = read_xml(\"test.docx\",\"header\")\n",
    "h=extract_img(xml_t['word/header1.xml'])\n",
    "h"
   ]
  },
  {
   "cell_type": "code",
   "execution_count": 64,
   "id": "6c0cdebb-6704-4b26-9843-955c80338edb",
   "metadata": {
    "tags": []
   },
   "outputs": [
    {
     "data": {
      "text/plain": [
       "[{'name': 'Image 4',\n",
       "  'cx': '607695',\n",
       "  'cy': '609600',\n",
       "  'position_horizontal': '2707005',\n",
       "  'position_vertical': '-271780',\n",
       "  'is_inline': False},\n",
       " {'name': 'Image 2',\n",
       "  'cx': '571500',\n",
       "  'cy': '571500',\n",
       "  'position_horizontal': '5780405',\n",
       "  'position_vertical': '-233045',\n",
       "  'is_inline': False},\n",
       " {'name': 'Image 1',\n",
       "  'cx': '1371600',\n",
       "  'cy': '660400',\n",
       "  'position_horizontal': '-569595',\n",
       "  'position_vertical': '-321945',\n",
       "  'is_inline': False}]"
      ]
     },
     "execution_count": 64,
     "metadata": {},
     "output_type": "execute_result"
    }
   ],
   "source": [
    "import xml.etree.ElementTree as ET\n",
    "\n",
    "def extract_img(xml_text):\n",
    "    namespaces = {\n",
    "        'w': 'http://schemas.openxmlformats.org/wordprocessingml/2006/main',\n",
    "        'wp': 'http://schemas.openxmlformats.org/drawingml/2006/wordprocessingDrawing',\n",
    "        'a': 'http://schemas.openxmlformats.org/drawingml/2006/main',\n",
    "        'pic': 'http://schemas.openxmlformats.org/drawingml/2006/picture',\n",
    "        'r': 'http://schemas.openxmlformats.org/officeDocument/2006/relationships'\n",
    "    }\n",
    "\n",
    "    tree = ET.ElementTree(ET.fromstring(xml_text))\n",
    "    root = tree.getroot()\n",
    "    \n",
    "    images_info = []\n",
    "    drawings = root.findall('.//w:drawing', namespaces)\n",
    "    \n",
    "    for drawing in drawings:\n",
    "        anchors = drawing.findall('.//wp:anchor', namespaces)\n",
    "        inlines = drawing.findall('.//wp:inline', namespaces)\n",
    "        \n",
    "        for item in anchors + inlines:\n",
    "            positionH = item.find('.//wp:positionH', namespaces)\n",
    "            posH_offset = positionH.find('.//wp:posOffset', namespaces).text if positionH is not None else None\n",
    "            positionV = item.find('.//wp:positionV', namespaces)\n",
    "            posV_offset = positionV.find('.//wp:posOffset', namespaces).text if positionV is not None else None\n",
    "\n",
    "            is_inline = item.tag.endswith('inline')\n",
    "            if is_inline:\n",
    "                default_horizontal_position = 0\n",
    "                default_vertical_position = 0\n",
    "\n",
    "                image_info = {\n",
    "                    'name': item.find('.//pic:cNvPr', namespaces).get('name'),\n",
    "                    'cx': item.find('.//wp:extent', namespaces).get('cx'),\n",
    "                    'cy': item.find('.//wp:extent', namespaces).get('cy'),\n",
    "                    'position_horizontal': default_horizontal_position,\n",
    "                    'position_vertical': default_vertical_position,\n",
    "                    'is_inline': is_inline\n",
    "                }\n",
    "            else:\n",
    "                image_info = {\n",
    "                    'name': item.find('.//pic:cNvPr', namespaces).get('name'),\n",
    "                    'cx': item.find('.//wp:extent', namespaces).get('cx'),\n",
    "                    'cy': item.find('.//wp:extent', namespaces).get('cy'),\n",
    "                    'position_horizontal': posH_offset,\n",
    "                    'position_vertical': posV_offset,\n",
    "                    'is_inline': is_inline\n",
    "                }\n",
    "            images_info.append(image_info)\n",
    "    \n",
    "    return images_info\n",
    "\n",
    "\n",
    "xml_t = read_xml(\"template.docx\",\"header\")\n",
    "h=extract_img(xml_t['word/header1.xml'])\n",
    "h"
   ]
  },
  {
   "cell_type": "code",
   "execution_count": 202,
   "id": "aacf8729-27aa-4988-8c43-7f453e8910ca",
   "metadata": {
    "tags": []
   },
   "outputs": [
    {
     "name": "stdout",
     "output_type": "stream",
     "text": [
      "[{'name': 'Image 3', 'cx': '863600', 'cy': '415290', 'position_horizontal': '5653405', 'position_vertical': '-230505', 'is_inline': False}, {'name': 'Image 2', 'cx': '1371600', 'cy': '660400', 'position_horizontal': '1843405', 'position_vertical': '-334645', 'is_inline': False}, {'name': 'Image 1', 'cx': '657451', 'cy': '659408', 'position_horizontal': '-798195', 'position_vertical': '-334645', 'is_inline': False}] \n",
      "\n",
      " 7560310\n"
     ]
    }
   ],
   "source": [
    "xml_t=read_xml(\"new_template.docx\",\"header\")\n",
    "print(extract_img(xml_t['word/header2.xml']), \"\\n\\n\", doc_width(\"new_template.docx\"))"
   ]
  },
  {
   "cell_type": "code",
   "execution_count": null,
   "id": "752ed883-bd10-428d-a02b-6891dcf2b057",
   "metadata": {},
   "outputs": [],
   "source": [
    "images_info = [{'name': 'image4',\n",
    "  'cx': '607695',\n",
    "  'cy': '609600',\n",
    "  'position_horizontal': '2707005',\n",
    "  'position_vertical': '-271780',\n",
    "  'is_inline': False},\n",
    " {'name': 'image2',\n",
    "  'cx': '571500',\n",
    "  'cy': '571500',\n",
    "  'position_horizontal': '5780405',\n",
    "  'position_vertical': '-233045',\n",
    "  'is_inline': False},\n",
    " {'name': 'image3',\n",
    "  'cx': '1371600',\n",
    "  'cy': '660400',\n",
    "  'position_horizontal': '-569595',\n",
    "  'position_vertical': '-321945',\n",
    "  'is_inline': False}] "
   ]
  },
  {
   "cell_type": "markdown",
   "id": "f4fc0f9e-5edf-415f-bf55-b36b3d7f8c9f",
   "metadata": {},
   "source": [
    "# Picture Insertion (Table + Works) #"
   ]
  },
  {
   "cell_type": "markdown",
   "id": "12fa5487-498f-4658-b3d3-ea9f46049b17",
   "metadata": {
    "tags": []
   },
   "source": [
    "### 1 Inserter ##"
   ]
  },
  {
   "cell_type": "code",
   "execution_count": 203,
   "id": "f17c7488-8321-475c-9ae4-66fa681ebd2b",
   "metadata": {
    "tags": []
   },
   "outputs": [],
   "source": [
    "from docx import Document\n",
    "from docx.shared import Inches\n",
    "\n",
    "def clear_header(doc):\n",
    "    for section in doc.sections:\n",
    "        header = section.header\n",
    "        for paragraph in header.paragraphs:\n",
    "            paragraph.clear()\n",
    "\n",
    "def add_image_table(source_doc_path, image_path, image_cell_index, width=None, height=None):\n",
    "    doc = Document(source_doc_path)\n",
    "    header = doc.sections[0].header\n",
    "    clear_header(doc)\n",
    "\n",
    "    table = header.add_table(1, 6, Inches(6))\n",
    "    cell = table.cell(0, image_cell_index)\n",
    "    paragraph = cell.paragraphs[0] if cell.paragraphs else cell.add_paragraph()\n",
    "    run = paragraph.add_run()\n",
    "    run.add_picture(image_path, width=width, height=height)\n",
    "\n",
    "    return doc\n",
    "\n",
    "source_doc = \"test.docx\"\n",
    "doc = Document(source_doc)\n",
    "doc = add_image_table(source_doc, \"infi.jpeg\", 1, width=Inches(1))\n",
    "doc.save(\"z.docx\")"
   ]
  },
  {
   "cell_type": "code",
   "execution_count": 181,
   "id": "e3717d66-c0e2-4eda-8307-6870b9444aa7",
   "metadata": {
    "tags": []
   },
   "outputs": [],
   "source": [
    "# Positioner"
   ]
  },
  {
   "cell_type": "code",
   "execution_count": null,
   "id": "ee38c2f7-d638-4857-958c-9f53278d9871",
   "metadata": {},
   "outputs": [],
   "source": [
    "image_info=[{'name': 'Image 4',\n",
    "  'cx': '607695',\n",
    "  'cy': '609600',\n",
    "  'position_horizontal': '2707005',\n",
    "  'position_vertical': '-271780',\n",
    "  'is_inline': False},\n",
    " {'name': 'Image 2',\n",
    "  'cx': '571500',\n",
    "  'cy': '571500',\n",
    "  'position_horizontal': '5780405',\n",
    "  'position_ver  a tical': '-233045',\n",
    "  'is_inline': False},\n",
    " {'name': 'Image 1',\n",
    "  'cx': '1371600',\n",
    "  'cy': '660400',\n",
    "  'position_horizontal': '-569595',\n",
    "  'position_vertical': '-321945',\n",
    "  'is_inline': False}]"
   ]
  },
  {
   "cell_type": "code",
   "execution_count": 190,
   "id": "5144139a-fdac-4575-a931-133d684bc6bd",
   "metadata": {
    "tags": []
   },
   "outputs": [
    {
     "data": {
      "text/plain": [
       "7560310"
      ]
     },
     "execution_count": 190,
     "metadata": {},
     "output_type": "execute_result"
    }
   ],
   "source": [
    "from docx import Document\n",
    "def dimension(source_path):\n",
    "    doc = Document(source_path)\n",
    "    section = doc.sections[0]\n",
    "    L = section.page_width\n",
    "    width"
   ]
  },
  {
   "cell_type": "code",
   "execution_count": 239,
   "id": "2673ce3a-65f4-412e-acd4-4ce5d91e3762",
   "metadata": {
    "tags": []
   },
   "outputs": [
    {
     "data": {
      "text/plain": [
       "[{'name': 'Image 4',\n",
       "  'cx': '607695',\n",
       "  'cy': '609600',\n",
       "  'position_horizontal': '2707005',\n",
       "  'position_vertical': '-271780',\n",
       "  'is_inline': False,\n",
       "  'cell': 3},\n",
       " {'name': 'Image 2',\n",
       "  'cx': '571500',\n",
       "  'cy': '571500',\n",
       "  'position_horizontal': '5780405',\n",
       "  'position_ver  a tical': '-233045',\n",
       "  'is_inline': False,\n",
       "  'cell': 6},\n",
       " {'name': 'Image 1',\n",
       "  'cx': '1371600',\n",
       "  'cy': '660400',\n",
       "  'position_horizontal': '-569595',\n",
       "  'position_vertical': '-321945',\n",
       "  'is_inline': False,\n",
       "  'cell': 1}]"
      ]
     },
     "execution_count": 239,
     "metadata": {},
     "output_type": "execute_result"
    }
   ],
   "source": [
    "image_info=[{'name': 'Image 4',\n",
    "  'cx': '607695',\n",
    "  'cy': '609600',\n",
    "  'position_horizontal': '2707005',\n",
    "  'position_vertical': '-271780',\n",
    "  'is_inline': False},\n",
    " {'name': 'Image 2',\n",
    "  'cx': '571500',\n",
    "  'cy': '571500',\n",
    "  'position_horizontal': '5780405',\n",
    "  'position_ver  a tical': '-233045',\n",
    "  'is_inline': False},\n",
    " {'name': 'Image 1',\n",
    "  'cx': '1371600',\n",
    "  'cy': '660400',\n",
    "  'position_horizontal': '-569595',\n",
    "  'position_vertical': '-321945',\n",
    "  'is_inline': False}]\n",
    "document_width = 7560310\n",
    "cell_divider(image_info, document_width)"
   ]
  },
  {
   "cell_type": "code",
   "execution_count": 194,
   "id": "f5dd85df-bbd1-43e9-bb6b-fef8c5e2370d",
   "metadata": {
    "tags": []
   },
   "outputs": [],
   "source": [
    "def doc_width(source_doc):\n",
    "    doc=Document(source_doc)\n",
    "    section=doc.sections[0]\n",
    "    L=section.page_width\n",
    "    return L"
   ]
  },
  {
   "cell_type": "code",
   "execution_count": 208,
   "id": "a9eed6ae-4133-471a-9228-7f9756fae3ca",
   "metadata": {
    "tags": []
   },
   "outputs": [
    {
     "data": {
      "text/plain": [
       "[{'name': 'image4',\n",
       "  'cx': '607695',\n",
       "  'cy': '609600',\n",
       "  'position_horizontal': '2707005',\n",
       "  'position_vertical': '-271780'},\n",
       " {'name': 'image2',\n",
       "  'cx': '571500',\n",
       "  'cy': '571500',\n",
       "  'position_horizontal': '5780405',\n",
       "  'position_vertical': '-233045'},\n",
       " {'name': 'image3',\n",
       "  'cx': '1371600',\n",
       "  'cy': '660400',\n",
       "  'position_horizontal': '-569595',\n",
       "  'position_vertical': '-321945'}]"
      ]
     },
     "execution_count": 208,
     "metadata": {},
     "output_type": "execute_result"
    }
   ],
   "source": [
    "images_info"
   ]
  },
  {
   "cell_type": "code",
   "execution_count": 211,
   "id": "defb83e6-cc8d-464e-8a51-0a2a7d39265e",
   "metadata": {
    "collapsed": true,
    "jupyter": {
     "outputs_hidden": true
    },
    "tags": []
   },
   "outputs": [
    {
     "data": {
      "text/plain": [
       "{'word/header3.xml': '<?xml version=\"1.0\" encoding=\"UTF-8\" standalone=\"yes\"?>\\r\\n<w:hdr xmlns:wpc=\"http://schemas.microsoft.com/office/word/2010/wordprocessingCanvas\" xmlns:cx=\"http://schemas.microsoft.com/office/drawing/2014/chartex\" xmlns:cx1=\"http://schemas.microsoft.com/office/drawing/2015/9/8/chartex\" xmlns:cx2=\"http://schemas.microsoft.com/office/drawing/2015/10/21/chartex\" xmlns:cx3=\"http://schemas.microsoft.com/office/drawing/2016/5/9/chartex\" xmlns:cx4=\"http://schemas.microsoft.com/office/drawing/2016/5/10/chartex\" xmlns:cx5=\"http://schemas.microsoft.com/office/drawing/2016/5/11/chartex\" xmlns:cx6=\"http://schemas.microsoft.com/office/drawing/2016/5/12/chartex\" xmlns:cx7=\"http://schemas.microsoft.com/office/drawing/2016/5/13/chartex\" xmlns:cx8=\"http://schemas.microsoft.com/office/drawing/2016/5/14/chartex\" xmlns:mc=\"http://schemas.openxmlformats.org/markup-compatibility/2006\" xmlns:aink=\"http://schemas.microsoft.com/office/drawing/2016/ink\" xmlns:am3d=\"http://schemas.microsoft.com/office/drawing/2017/model3d\" xmlns:o=\"urn:schemas-microsoft-com:office:office\" xmlns:oel=\"http://schemas.microsoft.com/office/2019/extlst\" xmlns:r=\"http://schemas.openxmlformats.org/officeDocument/2006/relationships\" xmlns:m=\"http://schemas.openxmlformats.org/officeDocument/2006/math\" xmlns:v=\"urn:schemas-microsoft-com:vml\" xmlns:wp14=\"http://schemas.microsoft.com/office/word/2010/wordprocessingDrawing\" xmlns:wp=\"http://schemas.openxmlformats.org/drawingml/2006/wordprocessingDrawing\" xmlns:w10=\"urn:schemas-microsoft-com:office:word\" xmlns:w=\"http://schemas.openxmlformats.org/wordprocessingml/2006/main\" xmlns:w14=\"http://schemas.microsoft.com/office/word/2010/wordml\" xmlns:w15=\"http://schemas.microsoft.com/office/word/2012/wordml\" xmlns:w16cex=\"http://schemas.microsoft.com/office/word/2018/wordml/cex\" xmlns:w16cid=\"http://schemas.microsoft.com/office/word/2016/wordml/cid\" xmlns:w16=\"http://schemas.microsoft.com/office/word/2018/wordml\" xmlns:w16sdtdh=\"http://schemas.microsoft.com/office/word/2020/wordml/sdtdatahash\" xmlns:w16se=\"http://schemas.microsoft.com/office/word/2015/wordml/symex\" xmlns:wpg=\"http://schemas.microsoft.com/office/word/2010/wordprocessingGroup\" xmlns:wpi=\"http://schemas.microsoft.com/office/word/2010/wordprocessingInk\" xmlns:wne=\"http://schemas.microsoft.com/office/word/2006/wordml\" xmlns:wps=\"http://schemas.microsoft.com/office/word/2010/wordprocessingShape\" mc:Ignorable=\"w14 w15 w16se w16cid w16 w16cex w16sdtdh wp14\"><w:p w14:paraId=\"2325FE96\" w14:textId=\"77777777\" w:rsidR=\"00493283\" w:rsidRDefault=\"00294C23\"><w:pPr><w:pStyle w:val=\"En-tte\"/></w:pPr><w:r><w:rPr><w:noProof/></w:rPr><w:pict w14:anchorId=\"74516453\"><v:shapetype id=\"_x0000_t75\" coordsize=\"21600,21600\" o:spt=\"75\" o:preferrelative=\"t\" path=\"m@4@5l@4@11@9@11@9@5xe\" filled=\"f\" stroked=\"f\"><v:stroke joinstyle=\"miter\"/><v:formulas><v:f eqn=\"if lineDrawn pixelLineWidth 0\"/><v:f eqn=\"sum @0 1 0\"/><v:f eqn=\"sum 0 0 @1\"/><v:f eqn=\"prod @2 1 2\"/><v:f eqn=\"prod @3 21600 pixelWidth\"/><v:f eqn=\"prod @3 21600 pixelHeight\"/><v:f eqn=\"sum @0 0 1\"/><v:f eqn=\"prod @6 1 2\"/><v:f eqn=\"prod @7 21600 pixelWidth\"/><v:f eqn=\"sum @8 21600 0\"/><v:f eqn=\"prod @7 21600 pixelHeight\"/><v:f eqn=\"sum @10 21600 0\"/></v:formulas><v:path o:extrusionok=\"f\" gradientshapeok=\"t\" o:connecttype=\"rect\"/><o:lock v:ext=\"edit\" aspectratio=\"t\"/></v:shapetype><v:shape id=\"WordPictureWatermark1835486203\" o:spid=\"_x0000_s1025\" type=\"#_x0000_t75\" alt=\"Griffe\" style=\"position:absolute;margin-left:0;margin-top:0;width:720.4pt;height:930.4pt;z-index:-251657216;mso-wrap-edited:f;mso-width-percent:0;mso-height-percent:0;mso-position-horizontal:center;mso-position-horizontal-relative:margin;mso-position-vertical:center;mso-position-vertical-relative:margin;mso-width-percent:0;mso-height-percent:0\" o:allowincell=\"f\"><v:imagedata r:id=\"rId1\" o:title=\"Griffe\" gain=\"19661f\" blacklevel=\"22938f\"/><w10:wrap anchorx=\"margin\" anchory=\"margin\"/></v:shape></w:pict></w:r></w:p></w:hdr>',\n",
       " 'word/header1.xml': '<?xml version=\"1.0\" encoding=\"UTF-8\" standalone=\"yes\"?>\\r\\n<w:hdr xmlns:wpc=\"http://schemas.microsoft.com/office/word/2010/wordprocessingCanvas\" xmlns:cx=\"http://schemas.microsoft.com/office/drawing/2014/chartex\" xmlns:cx1=\"http://schemas.microsoft.com/office/drawing/2015/9/8/chartex\" xmlns:cx2=\"http://schemas.microsoft.com/office/drawing/2015/10/21/chartex\" xmlns:cx3=\"http://schemas.microsoft.com/office/drawing/2016/5/9/chartex\" xmlns:cx4=\"http://schemas.microsoft.com/office/drawing/2016/5/10/chartex\" xmlns:cx5=\"http://schemas.microsoft.com/office/drawing/2016/5/11/chartex\" xmlns:cx6=\"http://schemas.microsoft.com/office/drawing/2016/5/12/chartex\" xmlns:cx7=\"http://schemas.microsoft.com/office/drawing/2016/5/13/chartex\" xmlns:cx8=\"http://schemas.microsoft.com/office/drawing/2016/5/14/chartex\" xmlns:mc=\"http://schemas.openxmlformats.org/markup-compatibility/2006\" xmlns:aink=\"http://schemas.microsoft.com/office/drawing/2016/ink\" xmlns:am3d=\"http://schemas.microsoft.com/office/drawing/2017/model3d\" xmlns:o=\"urn:schemas-microsoft-com:office:office\" xmlns:oel=\"http://schemas.microsoft.com/office/2019/extlst\" xmlns:r=\"http://schemas.openxmlformats.org/officeDocument/2006/relationships\" xmlns:m=\"http://schemas.openxmlformats.org/officeDocument/2006/math\" xmlns:v=\"urn:schemas-microsoft-com:vml\" xmlns:wp14=\"http://schemas.microsoft.com/office/word/2010/wordprocessingDrawing\" xmlns:wp=\"http://schemas.openxmlformats.org/drawingml/2006/wordprocessingDrawing\" xmlns:w10=\"urn:schemas-microsoft-com:office:word\" xmlns:w=\"http://schemas.openxmlformats.org/wordprocessingml/2006/main\" xmlns:w14=\"http://schemas.microsoft.com/office/word/2010/wordml\" xmlns:w15=\"http://schemas.microsoft.com/office/word/2012/wordml\" xmlns:w16cex=\"http://schemas.microsoft.com/office/word/2018/wordml/cex\" xmlns:w16cid=\"http://schemas.microsoft.com/office/word/2016/wordml/cid\" xmlns:w16=\"http://schemas.microsoft.com/office/word/2018/wordml\" xmlns:w16sdtdh=\"http://schemas.microsoft.com/office/word/2020/wordml/sdtdatahash\" xmlns:w16se=\"http://schemas.microsoft.com/office/word/2015/wordml/symex\" xmlns:wpg=\"http://schemas.microsoft.com/office/word/2010/wordprocessingGroup\" xmlns:wpi=\"http://schemas.microsoft.com/office/word/2010/wordprocessingInk\" xmlns:wne=\"http://schemas.microsoft.com/office/word/2006/wordml\" xmlns:wps=\"http://schemas.microsoft.com/office/word/2010/wordprocessingShape\" mc:Ignorable=\"w14 w15 w16se w16cid w16 w16cex w16sdtdh wp14\"><w:p w14:paraId=\"568B5AB3\" w14:textId=\"77777777\" w:rsidR=\"00493283\" w:rsidRDefault=\"00294C23\"><w:pPr><w:pStyle w:val=\"En-tte\"/></w:pPr><w:r><w:rPr><w:noProof/></w:rPr><w:pict w14:anchorId=\"3F7A668A\"><v:shapetype id=\"_x0000_t75\" coordsize=\"21600,21600\" o:spt=\"75\" o:preferrelative=\"t\" path=\"m@4@5l@4@11@9@11@9@5xe\" filled=\"f\" stroked=\"f\"><v:stroke joinstyle=\"miter\"/><v:formulas><v:f eqn=\"if lineDrawn pixelLineWidth 0\"/><v:f eqn=\"sum @0 1 0\"/><v:f eqn=\"sum 0 0 @1\"/><v:f eqn=\"prod @2 1 2\"/><v:f eqn=\"prod @3 21600 pixelWidth\"/><v:f eqn=\"prod @3 21600 pixelHeight\"/><v:f eqn=\"sum @0 0 1\"/><v:f eqn=\"prod @6 1 2\"/><v:f eqn=\"prod @7 21600 pixelWidth\"/><v:f eqn=\"sum @8 21600 0\"/><v:f eqn=\"prod @7 21600 pixelHeight\"/><v:f eqn=\"sum @10 21600 0\"/></v:formulas><v:path o:extrusionok=\"f\" gradientshapeok=\"t\" o:connecttype=\"rect\"/><o:lock v:ext=\"edit\" aspectratio=\"t\"/></v:shapetype><v:shape id=\"WordPictureWatermark1835486204\" o:spid=\"_x0000_s1026\" type=\"#_x0000_t75\" alt=\"Griffe\" style=\"position:absolute;margin-left:0;margin-top:0;width:720.4pt;height:930.4pt;z-index:-251656192;mso-wrap-edited:f;mso-width-percent:0;mso-height-percent:0;mso-position-horizontal:center;mso-position-horizontal-relative:margin;mso-position-vertical:center;mso-position-vertical-relative:margin;mso-width-percent:0;mso-height-percent:0\" o:allowincell=\"f\"><v:imagedata r:id=\"rId1\" o:title=\"Griffe\" gain=\"19661f\" blacklevel=\"22938f\"/><w10:wrap anchorx=\"margin\" anchory=\"margin\"/></v:shape></w:pict></w:r></w:p></w:hdr>',\n",
       " 'word/header2.xml': '<?xml version=\"1.0\" encoding=\"UTF-8\" standalone=\"yes\"?>\\r\\n<w:hdr xmlns:wpc=\"http://schemas.microsoft.com/office/word/2010/wordprocessingCanvas\" xmlns:cx=\"http://schemas.microsoft.com/office/drawing/2014/chartex\" xmlns:cx1=\"http://schemas.microsoft.com/office/drawing/2015/9/8/chartex\" xmlns:cx2=\"http://schemas.microsoft.com/office/drawing/2015/10/21/chartex\" xmlns:cx3=\"http://schemas.microsoft.com/office/drawing/2016/5/9/chartex\" xmlns:cx4=\"http://schemas.microsoft.com/office/drawing/2016/5/10/chartex\" xmlns:cx5=\"http://schemas.microsoft.com/office/drawing/2016/5/11/chartex\" xmlns:cx6=\"http://schemas.microsoft.com/office/drawing/2016/5/12/chartex\" xmlns:cx7=\"http://schemas.microsoft.com/office/drawing/2016/5/13/chartex\" xmlns:cx8=\"http://schemas.microsoft.com/office/drawing/2016/5/14/chartex\" xmlns:mc=\"http://schemas.openxmlformats.org/markup-compatibility/2006\" xmlns:aink=\"http://schemas.microsoft.com/office/drawing/2016/ink\" xmlns:am3d=\"http://schemas.microsoft.com/office/drawing/2017/model3d\" xmlns:o=\"urn:schemas-microsoft-com:office:office\" xmlns:oel=\"http://schemas.microsoft.com/office/2019/extlst\" xmlns:r=\"http://schemas.openxmlformats.org/officeDocument/2006/relationships\" xmlns:m=\"http://schemas.openxmlformats.org/officeDocument/2006/math\" xmlns:v=\"urn:schemas-microsoft-com:vml\" xmlns:wp14=\"http://schemas.microsoft.com/office/word/2010/wordprocessingDrawing\" xmlns:wp=\"http://schemas.openxmlformats.org/drawingml/2006/wordprocessingDrawing\" xmlns:w10=\"urn:schemas-microsoft-com:office:word\" xmlns:w=\"http://schemas.openxmlformats.org/wordprocessingml/2006/main\" xmlns:w14=\"http://schemas.microsoft.com/office/word/2010/wordml\" xmlns:w15=\"http://schemas.microsoft.com/office/word/2012/wordml\" xmlns:w16cex=\"http://schemas.microsoft.com/office/word/2018/wordml/cex\" xmlns:w16cid=\"http://schemas.microsoft.com/office/word/2016/wordml/cid\" xmlns:w16=\"http://schemas.microsoft.com/office/word/2018/wordml\" xmlns:w16sdtdh=\"http://schemas.microsoft.com/office/word/2020/wordml/sdtdatahash\" xmlns:w16se=\"http://schemas.microsoft.com/office/word/2015/wordml/symex\" xmlns:wpg=\"http://schemas.microsoft.com/office/word/2010/wordprocessingGroup\" xmlns:wpi=\"http://schemas.microsoft.com/office/word/2010/wordprocessingInk\" xmlns:wne=\"http://schemas.microsoft.com/office/word/2006/wordml\" xmlns:wps=\"http://schemas.microsoft.com/office/word/2010/wordprocessingShape\" mc:Ignorable=\"w14 w15 w16se w16cid w16 w16cex w16sdtdh wp14\"><w:p w14:paraId=\"57C19365\" w14:textId=\"378A3B37\" w:rsidR=\"00493283\" w:rsidRDefault=\"00D255F2\" w:rsidP=\"000C03E6\"><w:pPr><w:pStyle w:val=\"En-tte\"/><w:jc w:val=\"center\"/></w:pPr><w:r><w:rPr><w:noProof/></w:rPr><w:drawing><wp:anchor distT=\"0\" distB=\"0\" distL=\"114300\" distR=\"114300\" simplePos=\"0\" relativeHeight=\"251669504\" behindDoc=\"0\" locked=\"0\" layoutInCell=\"1\" allowOverlap=\"1\" wp14:anchorId=\"1FA1798F\" wp14:editId=\"4B9D9B42\"><wp:simplePos x=\"0\" y=\"0\"/><wp:positionH relativeFrom=\"column\"><wp:posOffset>6286500</wp:posOffset></wp:positionH><wp:positionV relativeFrom=\"paragraph\"><wp:posOffset>194945</wp:posOffset></wp:positionV><wp:extent cx=\"584200\" cy=\"584200\"/><wp:effectExtent l=\"0\" t=\"0\" r=\"0\" b=\"0\"/><wp:wrapSquare wrapText=\"bothSides\"/><wp:docPr id=\"1\" name=\"Picture 1\"/><wp:cNvGraphicFramePr><a:graphicFrameLocks xmlns:a=\"http://schemas.openxmlformats.org/drawingml/2006/main\" noChangeAspect=\"1\"/></wp:cNvGraphicFramePr><a:graphic xmlns:a=\"http://schemas.openxmlformats.org/drawingml/2006/main\"><a:graphicData uri=\"http://schemas.openxmlformats.org/drawingml/2006/picture\"><pic:pic xmlns:pic=\"http://schemas.openxmlformats.org/drawingml/2006/picture\"><pic:nvPicPr><pic:cNvPr id=\"0\" name=\"infi.jpeg\"/><pic:cNvPicPr/></pic:nvPicPr><pic:blipFill><a:blip r:embed=\"rId1\"><a:extLst><a:ext uri=\"{28A0092B-C50C-407E-A947-70E740481C1C}\"><a14:useLocalDpi xmlns:a14=\"http://schemas.microsoft.com/office/drawing/2010/main\" val=\"0\"/></a:ext></a:extLst></a:blip><a:stretch><a:fillRect/></a:stretch></pic:blipFill><pic:spPr><a:xfrm><a:off x=\"0\" y=\"0\"/><a:ext cx=\"584200\" cy=\"584200\"/></a:xfrm><a:prstGeom prst=\"rect\"><a:avLst/></a:prstGeom></pic:spPr></pic:pic></a:graphicData></a:graphic><wp14:sizeRelH relativeFrom=\"page\"><wp14:pctWidth>0</wp14:pctWidth></wp14:sizeRelH><wp14:sizeRelV relativeFrom=\"page\"><wp14:pctHeight>0</wp14:pctHeight></wp14:sizeRelV></wp:anchor></w:drawing></w:r></w:p><w:p w14:paraId=\"384079A3\" w14:textId=\"1BAC2EC0\" w:rsidR=\"009A739B\" w:rsidRDefault=\"009A739B\" w:rsidP=\"000C03E6\"><w:pPr><w:pStyle w:val=\"En-tte\"/><w:jc w:val=\"center\"/></w:pPr></w:p><w:p w14:paraId=\"1C8723EE\" w14:textId=\"613BBEB3\" w:rsidR=\"009A739B\" w:rsidRDefault=\"009A739B\" w:rsidP=\"000C03E6\"><w:pPr><w:pStyle w:val=\"En-tte\"/><w:jc w:val=\"center\"/></w:pPr></w:p><w:p w14:paraId=\"077A2068\" w14:textId=\"213C591F\" w:rsidR=\"009A739B\" w:rsidRDefault=\"009A739B\" w:rsidP=\"000C03E6\"><w:pPr><w:pStyle w:val=\"En-tte\"/><w:jc w:val=\"center\"/></w:pPr></w:p><w:p w14:paraId=\"7339D912\" w14:textId=\"2B73B8BC\" w:rsidR=\"009A739B\" w:rsidRDefault=\"009A739B\" w:rsidP=\"000C03E6\"><w:pPr><w:pStyle w:val=\"En-tte\"/><w:jc w:val=\"center\"/></w:pPr></w:p><w:p w14:paraId=\"0D497696\" w14:textId=\"07A58B65\" w:rsidR=\"009A739B\" w:rsidRDefault=\"009A739B\" w:rsidP=\"000C03E6\"><w:pPr><w:pStyle w:val=\"En-tte\"/><w:jc w:val=\"center\"/></w:pPr></w:p><w:tbl><w:tblPr><w:tblW w:w=\"0\" w:type=\"auto\"/><w:tblLook w:val=\"04A0\" w:firstRow=\"1\" w:lastRow=\"0\" w:firstColumn=\"1\" w:lastColumn=\"0\" w:noHBand=\"0\" w:noVBand=\"1\"/></w:tblPr><w:tblGrid><w:gridCol w:w=\"1440\"/><w:gridCol w:w=\"1440\"/><w:gridCol w:w=\"1440\"/><w:gridCol w:w=\"1440\"/><w:gridCol w:w=\"1440\"/><w:gridCol w:w=\"1440\"/></w:tblGrid><w:tr w:rsidR=\"00810DAE\" w14:paraId=\"3FFFC30F\" w14:textId=\"77777777\"><w:tc><w:tcPr><w:tcW w:w=\"1440\" w:type=\"dxa\"/></w:tcPr><w:p w14:paraId=\"56571376\" w14:textId=\"77777777\" w:rsidR=\"00810DAE\" w:rsidRDefault=\"00810DAE\"/></w:tc><w:tc><w:tcPr><w:tcW w:w=\"1440\" w:type=\"dxa\"/></w:tcPr><w:p w14:paraId=\"65926DD5\" w14:textId=\"77777777\" w:rsidR=\"00810DAE\" w:rsidRDefault=\"00810DAE\"/></w:tc><w:tc><w:tcPr><w:tcW w:w=\"1440\" w:type=\"dxa\"/></w:tcPr><w:p w14:paraId=\"3D8C67A9\" w14:textId=\"77777777\" w:rsidR=\"00810DAE\" w:rsidRDefault=\"00810DAE\"/></w:tc><w:tc><w:tcPr><w:tcW w:w=\"1440\" w:type=\"dxa\"/></w:tcPr><w:p w14:paraId=\"4E718BB8\" w14:textId=\"68B67787\" w:rsidR=\"00810DAE\" w:rsidRDefault=\"00810DAE\" w:rsidP=\"00D255F2\"><w:pPr><w:jc w:val=\"right\"/></w:pPr></w:p></w:tc><w:tc><w:tcPr><w:tcW w:w=\"1440\" w:type=\"dxa\"/></w:tcPr><w:p w14:paraId=\"7509FD10\" w14:textId=\"6E1FD6CD\" w:rsidR=\"00810DAE\" w:rsidRDefault=\"00810DAE\"/></w:tc><w:tc><w:tcPr><w:tcW w:w=\"1440\" w:type=\"dxa\"/></w:tcPr><w:p w14:paraId=\"1B3E4C3F\" w14:textId=\"4B726E26\" w:rsidR=\"00810DAE\" w:rsidRDefault=\"00810DAE\"/></w:tc></w:tr><w:tr w:rsidR=\"00D255F2\" w14:paraId=\"03E51ECE\" w14:textId=\"77777777\"><w:tc><w:tcPr><w:tcW w:w=\"1440\" w:type=\"dxa\"/></w:tcPr><w:p w14:paraId=\"5DA506DC\" w14:textId=\"77777777\" w:rsidR=\"00D255F2\" w:rsidRDefault=\"00D255F2\"/></w:tc><w:tc><w:tcPr><w:tcW w:w=\"1440\" w:type=\"dxa\"/></w:tcPr><w:p w14:paraId=\"1F05078E\" w14:textId=\"77777777\" w:rsidR=\"00D255F2\" w:rsidRDefault=\"00D255F2\"/></w:tc><w:tc><w:tcPr><w:tcW w:w=\"1440\" w:type=\"dxa\"/></w:tcPr><w:p w14:paraId=\"1EFFA010\" w14:textId=\"77777777\" w:rsidR=\"00D255F2\" w:rsidRDefault=\"00D255F2\"/></w:tc><w:tc><w:tcPr><w:tcW w:w=\"1440\" w:type=\"dxa\"/></w:tcPr><w:p w14:paraId=\"4FAC589C\" w14:textId=\"77777777\" w:rsidR=\"00D255F2\" w:rsidRDefault=\"00D255F2\" w:rsidP=\"00D255F2\"><w:pPr><w:jc w:val=\"right\"/></w:pPr></w:p></w:tc><w:tc><w:tcPr><w:tcW w:w=\"1440\" w:type=\"dxa\"/></w:tcPr><w:p w14:paraId=\"21D02780\" w14:textId=\"77777777\" w:rsidR=\"00D255F2\" w:rsidRDefault=\"00D255F2\"/></w:tc><w:tc><w:tcPr><w:tcW w:w=\"1440\" w:type=\"dxa\"/></w:tcPr><w:p w14:paraId=\"49881046\" w14:textId=\"77777777\" w:rsidR=\"00D255F2\" w:rsidRDefault=\"00D255F2\"/></w:tc></w:tr></w:tbl></w:hdr>'}"
      ]
     },
     "execution_count": 211,
     "metadata": {},
     "output_type": "execute_result"
    }
   ],
   "source": [
    "k=read_xmls(\"new.docx\",\"header\")\n",
    "k"
   ]
  },
  {
   "cell_type": "code",
   "execution_count": 224,
   "id": "d1b34d96-2620-41d2-abc3-6a3f82384964",
   "metadata": {
    "tags": []
   },
   "outputs": [
    {
     "data": {
      "text/plain": [
       "[{'name': 'infi.jpeg',\n",
       "  'cx': '584200',\n",
       "  'cy': '584200',\n",
       "  'position_horizontal': '6286500',\n",
       "  'position_vertical': '194945',\n",
       "  'is_inline': False}]"
      ]
     },
     "execution_count": 224,
     "metadata": {},
     "output_type": "execute_result"
    }
   ],
   "source": [
    "extract_img(k[\"word/header2.xml\"])"
   ]
  },
  {
   "cell_type": "code",
   "execution_count": 218,
   "id": "2d37831f-a823-494b-a20d-82a252b718d3",
   "metadata": {
    "tags": []
   },
   "outputs": [
    {
     "data": {
      "text/plain": [
       "7560310"
      ]
     },
     "execution_count": 218,
     "metadata": {},
     "output_type": "execute_result"
    }
   ],
   "source": [
    "doc_width(\"new.docx\")"
   ]
  }
 ],
 "metadata": {
  "kernelspec": {
   "display_name": "Python 3 (ipykernel)",
   "language": "python",
   "name": "python3"
  },
  "language_info": {
   "codemirror_mode": {
    "name": "ipython",
    "version": 3
   },
   "file_extension": ".py",
   "mimetype": "text/x-python",
   "name": "python",
   "nbconvert_exporter": "python",
   "pygments_lexer": "ipython3",
   "version": "3.11.5"
  }
 },
 "nbformat": 4,
 "nbformat_minor": 5
}
