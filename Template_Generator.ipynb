{
 "cells": [
  {
   "cell_type": "code",
   "execution_count": 9,
   "id": "edd0fe39-1a0c-4670-83cb-ea6ab0a9ff61",
   "metadata": {
    "tags": []
   },
   "outputs": [],
   "source": [
    "from docx import Document\n",
    "from docx.oxml import OxmlElement\n",
    "from docx.oxml.ns import qn\n",
    "from docx.shared import Emu\n",
    "import zipfile\n",
    "import os"
   ]
  },
  {
   "cell_type": "markdown",
   "id": "404d60ac-8e35-43c4-b3a9-2b7531964ac1",
   "metadata": {},
   "source": [
    "# Infine"
   ]
  },
  {
   "cell_type": "code",
   "execution_count": 24,
   "id": "5a31621f-aed2-4d15-bd45-9484d0b64bf3",
   "metadata": {
    "tags": []
   },
   "outputs": [],
   "source": [
    "def clear_header_footer(doc):\n",
    "    for section in doc.sections:\n",
    "        header = section.header\n",
    "        header._element.clear_content()\n",
    "        header._element.append(header._element._new_hdrRef())\n",
    "        footer = section.footer\n",
    "        footer._element.clear_content()\n",
    "        footer._element.append(footer._element._new_ftrRef())"
   ]
  },
  {
   "cell_type": "code",
   "execution_count": 26,
   "id": "39d71857-ab2e-45a5-94a8-bd76f1cb433e",
   "metadata": {
    "tags": []
   },
   "outputs": [],
   "source": [
    "def clear_header_footer(doc):\n",
    "    for section in doc.sections:\n",
    "        # Clear header\n",
    "        header = section.header\n",
    "        for element in header._element.getchildren():\n",
    "            header._element.remove(element)\n",
    "\n",
    "        new_hdr = OxmlElement(\"w:p\")\n",
    "        header._element.append(new_hdr)\n",
    "\n",
    "        footer = section.footer\n",
    "        for element in footer._element.getchildren():\n",
    "            footer._element.remove(element)\n",
    "\n",
    "        new_ftr = OxmlElement(\"w:p\")\n",
    "        footer._element.append(new_ftr)"
   ]
  },
  {
   "cell_type": "code",
   "execution_count": 27,
   "id": "d8b249ad-ef79-4e39-885c-a7a173b901e2",
   "metadata": {
    "tags": []
   },
   "outputs": [],
   "source": [
    "doc_path = \"HS.docx\"\n",
    "doc = Document(doc_path)\n",
    "clear_header_footer(doc)\n",
    "\n",
    "doc.save(\"modified_document4.docx\")"
   ]
  },
  {
   "cell_type": "code",
   "execution_count": 34,
   "id": "b762b332-246b-49ae-ba32-f08b97911725",
   "metadata": {
    "tags": []
   },
   "outputs": [],
   "source": [
    "from docx.shared import Inches\n",
    "from docx import Document\n",
    "from docx.enum.text import WD_ALIGN_PARAGRAPH\n",
    "\n",
    "def add_image_table(doc, image_path, image_cell_index, width=None, height=None):\n",
    "    header = doc.sections[0].header\n",
    "    table = header.add_table(1, 6, Inches(6))\n",
    "    cell = table.cell(0, image_cell_index)\n",
    "    paragraph = cell.paragraphs[0] if cell.paragraphs else cell.add_paragraph()\n",
    "    run = paragraph.add_run()\n",
    "    run.add_picture(image_path, width=width, height=height)\n",
    "\n",
    "doc_path = \"modified_document4.docx\"\n",
    "doc = Document(doc_path)\n",
    "\n",
    "add_image_table(doc, \"image1.png\", 0, width=Inches(1))\n",
    "\n",
    "doc.save(\"h.docx\")"
   ]
  },
  {
   "cell_type": "code",
   "execution_count": 56,
   "id": "a525e63d-d422-42c2-8266-54d7ae32fb30",
   "metadata": {
    "tags": []
   },
   "outputs": [],
   "source": [
    "from docx import Document\n",
    "from docx.shared import Inches\n",
    "from docx.enum.text import WD_ALIGN_PARAGRAPH  # Make sure this import is included\n",
    "\n",
    "def add_footer_with_image_and_text(doc, image_path, text,img_size):\n",
    "    for section in doc.sections:\n",
    "        footer = section.footer\n",
    "        # TABLE\n",
    "        table = footer.add_table(rows=2, cols=1, width=Inches(6))\n",
    "        table.autofit = False\n",
    "        for row in table.rows:\n",
    "            row.cells[0].width = Inches(6)\n",
    "        \n",
    "        # image\n",
    "        cell = table.rows[0].cells[0]\n",
    "        cell_paragraph = cell.paragraphs[0]\n",
    "        cell_paragraph.alignment = WD_ALIGN_PARAGRAPH.CENTER\n",
    "        run = cell_paragraph.add_run()\n",
    "        run.add_picture(image_path, width=Inches(img_size))  # Adjust width as needed\n",
    "        \n",
    "        # text \n",
    "        cell = table.rows[1].cells[0]\n",
    "        cell_paragraph = cell.add_paragraph()\n",
    "        cell_paragraph.alignment = WD_ALIGN_PARAGRAPH.CENTER\n",
    "        cell_paragraph.add_run(text)\n",
    "        font = run.font\n",
    "        font.size = Pt(9)\n",
    "\n",
    "doc = Document(\"h.docx\")\n",
    "\n",
    "text = \"122, avenue des Champs-Élysées - 75008 Paris\\nContact Infiné : xx@infine.com - 07XXXXXXXX\"\n",
    "img_path = \"image2.png\"  # Update the path to your image\n",
    "img_size=0.5\n",
    "add_footer_with_image_and_text(doc, img_path, text,img_size)\n",
    "\n",
    "# Save the document\n",
    "doc.save(\"p.docx\")"
   ]
  },
  {
   "cell_type": "code",
   "execution_count": 59,
   "id": "9151cc1f-18bf-4902-b817-62d9d40ac326",
   "metadata": {
    "tags": []
   },
   "outputs": [],
   "source": [
    "def infine_pipeline(doc,image_h,image_f,text,img_size):\n",
    "    doc = Document(doc_path)\n",
    "    clear_header_footer(doc)\n",
    "    add_image_table(doc, image_h, 0, width=Inches(1))\n",
    "    add_footer_with_image_and_text(doc, image_f, text,img_size)\n",
    "    doc.save(\"pipe.docx\")\n",
    "    \n",
    "text = \"122, avenue des Champs-Élysées - 75008 Paris\\nContact Infiné : xx@infine.com - 07XXXXXXXX\"\n",
    "\n",
    "infine_pipeline(\"h.docx\",\"image1.png\",\"image2.png\",text,0.5)\n",
    "    "
   ]
  },
  {
   "cell_type": "markdown",
   "id": "c1761716-4495-4ddb-9fca-edaa5076a814",
   "metadata": {},
   "source": [
    "## Symolia "
   ]
  },
  {
   "cell_type": "code",
   "execution_count": 99,
   "id": "14fd6699-fd2a-4369-bbb6-28ac2a0b2387",
   "metadata": {
    "tags": []
   },
   "outputs": [],
   "source": [
    "def add_header_images(doc, left_image_path, right_image_path1, right_image_path2, image_size_inches):\n",
    "    header = doc.sections[0].header\n",
    "    table = header.add_table(rows=1, cols=5, width=doc.sections[0].page_width)\n",
    "    table.autofit = False\n",
    "    \n",
    "    \n",
    "    cell = table.cell(0, 0)\n",
    "    cell.width = doc.sections[0].page_width / 5\n",
    "    paragraph = cell.paragraphs[0]\n",
    "    run = paragraph.add_run()\n",
    "    run.add_picture(left_image_path, width=Inches(1))\n",
    "    \n",
    "    \n",
    "    for i in range(1, 3):\n",
    "        cell = table.cell(0, i)\n",
    "        cell.width = int(doc.sections[0].page_width / 5)\n",
    "        paragraph = cell.paragraphs[0]\n",
    "    \n",
    "    \n",
    "    cell = table.cell(0, 3)  \n",
    "    cell.width = doc.sections[0].page_width / 5\n",
    "    paragraph = cell.paragraphs[0]\n",
    "    run = paragraph.add_run()\n",
    "    run.add_picture(right_image_path2, width=Inches(0.5))\n",
    "\n",
    "    cell = table.cell(0, 4)\n",
    "    run.add_picture(right_image_path1, width=Inches(0.5))\n",
    "    cell.width = doc.sections[0].page_width / 5\n",
    "    paragraph = cell.add_paragraph()\n",
    "    run = paragraph.add_run()\n",
    "\n",
    "\n",
    "def add_footer_image_text(doc, footer_image_path, footer_text, image_size_inches, text_size_pt):\n",
    "    footer = doc.sections[0].footer\n",
    "    table = footer.add_table(rows=1, cols=3, width=doc.sections[0].page_width)\n",
    "    table.autofit = False\n",
    "    \n",
    "    cell = table.cell(0, 0)\n",
    "    cell.width = doc.sections[0].page_width/5\n",
    "    paragraph = cell.paragraphs[0]\n",
    "    run = paragraph.add_run()\n",
    "    run.add_picture(footer_image_path, width=Inches(image_size_inches))\n",
    "    \n",
    "    cell = table.cell(0, 1)\n",
    "    cell.width = doc.sections[0].page_width/3\n",
    "    paragraph = cell.paragraphs[0]\n",
    "    paragraph.alignment = WD_ALIGN_PARAGRAPH.CENTER\n",
    "    run = paragraph.add_run(footer_text)\n",
    "    run.font.size = Pt(text_size_pt)\n",
    "\n",
    "def infine_pipeline(doc_path, left_image_path, right_image_path1, right_image_path2, footer_image_path, footer_text, header_image_size_inches, footer_image_size_inches, footer_text_size_pt):\n",
    "    doc = Document(doc_path)\n",
    "    clear_header_footer(doc)\n",
    "    add_header_images(doc, left_image_path, right_image_path1, right_image_path2, header_image_size_inches)\n",
    "    add_footer_image_text(doc, footer_image_path, footer_text, footer_image_size_inches, footer_text_size_pt)\n",
    "    doc.save(\"j.docx\")\n",
    "    \n",
    "    \n",
    "infine_pipeline(\n",
    "    doc_path=\"test.docx\",\n",
    "left_image_path=\"image5.png\",\n",
    "right_image_path1=\"image3.png\",\n",
    "right_image_path2=\"image4.png\",\n",
    "    footer_image_path=\"image5.png\",\n",
    "    footer_text=\"www.symolia.com\\nTél. : +33 (0) 7 72 29 61 67\\n5 Bis Place de La Défense, 92400\",\n",
    "    header_image_size_inches=1.0,  \n",
    "    footer_image_size_inches=1.0, \n",
    " footer_text_size_pt=9           \n",
    ")\n"
   ]
  }
 ],
 "metadata": {
  "kernelspec": {
   "display_name": "Python 3 (ipykernel)",
   "language": "python",
   "name": "python3"
  },
  "language_info": {
   "codemirror_mode": {
    "name": "ipython",
    "version": 3
   },
   "file_extension": ".py",
   "mimetype": "text/x-python",
   "name": "python",
   "nbconvert_exporter": "python",
   "pygments_lexer": "ipython3",
   "version": "3.11.5"
  }
 },
 "nbformat": 4,
 "nbformat_minor": 5
}
